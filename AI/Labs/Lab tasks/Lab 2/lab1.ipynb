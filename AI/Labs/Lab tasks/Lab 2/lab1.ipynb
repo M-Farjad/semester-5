{
 "cells": [
  {
   "cell_type": "code",
   "execution_count": 6,
   "metadata": {},
   "outputs": [
    {
     "name": "stdout",
     "output_type": "stream",
     "text": [
      "The sum is:  24.3 \n",
      "The difference is:  -0.3000000000000007 \n",
      "The product is:  147.60000000000002 \n",
      "The division is:  0.975609756097561\n"
     ]
    }
   ],
   "source": [
    "integer = int(input(\"Enter an integer: \"))\n",
    "floating = float(input(\"Enter a floating point number: \"))\n",
    "print(\"The sum is: \", integer + floating, \"\\nThe difference is: \", integer - floating, \"\\nThe product is: \", integer * floating, \"\\nThe division is: \", integer / floating)"
   ]
  },
  {
   "cell_type": "code",
   "execution_count": 7,
   "metadata": {},
   "outputs": [
    {
     "name": "stdout",
     "output_type": "stream",
     "text": [
      "You are eligible\n"
     ]
    }
   ],
   "source": [
    "age=int(input(\"Enter your age: \"))\n",
    "if age>=20:\n",
    "    print(\"You are eligible\")\n",
    "else:\n",
    "    print(\"You are not eligible\")"
   ]
  },
  {
   "cell_type": "code",
   "execution_count": 8,
   "metadata": {},
   "outputs": [
    {
     "name": "stdout",
     "output_type": "stream",
     "text": [
      "C\n"
     ]
    }
   ],
   "source": [
    "numbersObtained=int(input(\"Enter your marks: \"))\n",
    "if numbersObtained>=80:\n",
    "    print(\"A+\")\n",
    "elif numbersObtained>=70:\n",
    "    print(\"A\")\n",
    "elif numbersObtained>=60:\n",
    "    print(\"B\")\n",
    "elif numbersObtained>=50:\n",
    "    print(\"C\")\n",
    "elif numbersObtained>=40:\n",
    "    print(\"D\")\n",
    "else:\n",
    "    print(\"F\")"
   ]
  },
  {
   "cell_type": "code",
   "execution_count": 9,
   "metadata": {},
   "outputs": [
    {
     "name": "stdout",
     "output_type": "stream",
     "text": [
      "Even\n"
     ]
    }
   ],
   "source": [
    "num=int(input(\"Enter a number: \"))\n",
    "if num%2==0:\n",
    "    print(\"Even\")\n",
    "else:\n",
    "    print(\"Odd\")"
   ]
  },
  {
   "cell_type": "code",
   "execution_count": 11,
   "metadata": {},
   "outputs": [
    {
     "name": "stdout",
     "output_type": "stream",
     "text": [
      "The Count is:  2\n"
     ]
    }
   ],
   "source": [
    "string = input(\"Enter a string: \")\n",
    "character = input(\"Enter a character: \")\n",
    "count =0\n",
    "for i in string:\n",
    "    if i==character:\n",
    "        count+=1\n",
    "print(\"The Count is: \",count)"
   ]
  }
 ],
 "metadata": {
  "kernelspec": {
   "display_name": "Python 3",
   "language": "python",
   "name": "python3"
  },
  "language_info": {
   "codemirror_mode": {
    "name": "ipython",
    "version": 3
   },
   "file_extension": ".py",
   "mimetype": "text/x-python",
   "name": "python",
   "nbconvert_exporter": "python",
   "pygments_lexer": "ipython3",
   "version": "3.11.4"
  }
 },
 "nbformat": 4,
 "nbformat_minor": 2
}

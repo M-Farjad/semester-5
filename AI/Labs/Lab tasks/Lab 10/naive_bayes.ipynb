{
 "cells": [
  {
   "cell_type": "code",
   "execution_count": 1,
   "metadata": {},
   "outputs": [
    {
     "name": "stdout",
     "output_type": "stream",
     "text": [
      "Loaded Data: \n",
      "     Outlook  Temp Humidity Windy Play\n",
      "0      Rainy   Hot     High     f   no\n",
      "1      Rainy   Hot     High     t   no\n",
      "2   Overcast   Hot     High     f  yes\n",
      "3      Sunny  Mild     High     f  yes\n",
      "4      Sunny  Cool   Normal     f  yes\n",
      "5      Sunny  Cool   Normal     t   no\n",
      "6   Overcast  Cool   Normal     t  yes\n",
      "7      Rainy  Mild     High     f   no\n",
      "8      Rainy  Cool   Normal     f  yes\n",
      "9      Sunny  Mild   Normal     f  yes\n",
      "10     Rainy  Mild   Normal     t  yes\n",
      "11  Overcast  Mild     High     t  yes\n",
      "12  Overcast   Hot   Normal     f  yes\n",
      "13     Sunny  Mild     High     t   no\n"
     ]
    }
   ],
   "source": [
    "import numpy as np\n",
    "from sklearn.model_selection import train_test_split\n",
    "from sklearn.metrics import accuracy_score\n",
    "import pandas as pd\n",
    "\n",
    "fileName = 'play_data.csv'\n",
    "df = pd.read_csv(fileName)\n",
    "\n",
    "print('Loaded Data: ')\n",
    "print(df)\n",
    "\n",
    "# data = np.array([\n",
    "#     [1, 'Sunny', 'Hot', 'High', 'No'],\n",
    "#     [2, 'Sunny', 'Hot', 'High', 'No'],\n",
    "#     [3, 'Overcast', 'Hot', 'High', 'Yes'],\n",
    "#     [4, 'Rainy', 'Mild', 'High', 'Yes'],\n",
    "#     [5, 'Rainy', 'Cool', 'Normal', 'Yes'],\n",
    "#     [6, 'Rainy', 'Cool', 'Normal', 'No'],\n",
    "#     [7, 'Overcast', 'Cool', 'Normal', 'Yes'],\n",
    "#     [8, 'Sunny', 'Mild', 'High', 'No'],\n",
    "#     [9, 'Sunny', 'Cool', 'Normal', 'Yes'],\n",
    "#     [10, 'Rainy', 'Mild', 'Normal', 'Yes']\n",
    "# ])"
   ]
  },
  {
   "cell_type": "code",
   "execution_count": 2,
   "metadata": {},
   "outputs": [],
   "source": [
    "# X = data[:, 1:4]\n",
    "# y = data[:, 4]\n",
    "\n",
    "X = df.iloc[:, :-1].values\n",
    "y = df.iloc[:,-1].values \n",
    "\n",
    "X_train, X_test, y_train, y_test = train_test_split(X, y, test_size=0.2,random_state=0)"
   ]
  },
  {
   "cell_type": "code",
   "execution_count": 3,
   "metadata": {},
   "outputs": [],
   "source": [
    "def calculate_probabilities(data,label_column):\n",
    "    probabilities = {}\n",
    "    labels, counts = np.unique(data[:, label_column], return_counts=True)\n",
    "    total_samples = len(data)\n",
    "    for label, count in zip(labels, counts):\n",
    "        probabilities[label] = count / float(total_samples)\n",
    "    return probabilities"
   ]
  },
  {
   "cell_type": "code",
   "execution_count": 4,
   "metadata": {},
   "outputs": [],
   "source": [
    "def train_naive_bayes(X,y):\n",
    "    num_features =X.shape[1]\n",
    "    unique_labels = np.unique(y)\n",
    "    probabilities = {}\n",
    "    for label in unique_labels:\n",
    "        label_indices = np.where(y == label)[0]\n",
    "        label_data = X[label_indices]\n",
    "\n",
    "        probabilities[label] = []\n",
    "        for i in range(num_features):\n",
    "            feature_values, count = np.unique(label_data[:,i],return_counts=True)\n",
    "            feature_probabilities = dict(zip(feature_values,count/len(label_data)))\n",
    "            probabilities[label].append(feature_probabilities)\n",
    "    return probabilities"
   ]
  },
  {
   "cell_type": "code",
   "execution_count": 5,
   "metadata": {},
   "outputs": [],
   "source": [
    "def predict_naive_bayes(intsance,probabilities):\n",
    "    predicted_label = None\n",
    "    max_probability = -1\n",
    "\n",
    "    for label, label_probabilities in probabilities.items():\n",
    "        instance_probability = 1.0\n",
    "        for i, value in enumerate(intsance):\n",
    "            if value in label_probabilities[i]:\n",
    "                instance_probability *= label_probabilities[i][value]\n",
    "            else:\n",
    "                instance_probability = 0\n",
    "\n",
    "        if instance_probability > max_probability:\n",
    "            max_probability = instance_probability\n",
    "            predicted_label = label\n",
    "    return predicted_label"
   ]
  },
  {
   "cell_type": "code",
   "execution_count": 6,
   "metadata": {},
   "outputs": [
    {
     "name": "stdout",
     "output_type": "stream",
     "text": [
      "the predicted label for the instance ['Sunny', 'Cool', 'High'] is: no\n"
     ]
    }
   ],
   "source": [
    "probabilities = train_naive_bayes(X,y)\n",
    "\n",
    "test_instance = ['Sunny', 'Cool', 'High']\n",
    "predicted_label = predict_naive_bayes(test_instance,probabilities)\n",
    "\n",
    "print(f'the predicted label for the instance {test_instance} is: {predicted_label}')"
   ]
  }
 ],
 "metadata": {
  "kernelspec": {
   "display_name": "Python 3",
   "language": "python",
   "name": "python3"
  },
  "language_info": {
   "codemirror_mode": {
    "name": "ipython",
    "version": 3
   },
   "file_extension": ".py",
   "mimetype": "text/x-python",
   "name": "python",
   "nbconvert_exporter": "python",
   "pygments_lexer": "ipython3",
   "version": "3.12.0"
  }
 },
 "nbformat": 4,
 "nbformat_minor": 2
}

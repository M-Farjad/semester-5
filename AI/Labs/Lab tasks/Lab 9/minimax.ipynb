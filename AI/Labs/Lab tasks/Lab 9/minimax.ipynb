{
  "nbformat": 4,
  "nbformat_minor": 0,
  "metadata": {
    "colab": {
      "provenance": []
    },
    "kernelspec": {
      "name": "python3",
      "display_name": "Python 3"
    },
    "language_info": {
      "name": "python"
    }
  },
  "cells": [
    {
      "cell_type": "markdown",
      "source": [
        "# MINIMAX"
      ],
      "metadata": {
        "id": "Fnp_zD9i5my6"
      }
    },
    {
      "cell_type": "code",
      "execution_count": 1,
      "metadata": {
        "id": "57SlNA0r1JIz"
      },
      "outputs": [],
      "source": [
        "class TreeNode:\n",
        "  def __init__(self, value, children=None):\n",
        "    self.value = value\n",
        "    self.children = children if children is not None else []\n",
        "    self.is_maximizing = True\n",
        ""
      ]
    },
    {
      "cell_type": "code",
      "source": [
        "def minimax(node ,depth , is_maximizing):\n",
        "  if depth == 0 or not node.children:\n",
        "    return node.value\n",
        "\n",
        "  if is_maximizing:\n",
        "    max_eval = -float('inf')\n",
        "    for child in node.children:\n",
        "      eval = minimax(child, depth -1 ,False)\n",
        "      max_eval = max(max_eval, eval)\n",
        "    return max_eval\n",
        "  else:\n",
        "    min_eval = float('inf')\n",
        "    for child in node.children:\n",
        "      eval = minimax(child, depth-1 , True)\n",
        "      min_eval = min(min_eval, eval)\n",
        "    return min_eval"
      ],
      "metadata": {
        "id": "mF8e6K422Gwl"
      },
      "execution_count": 5,
      "outputs": []
    },
    {
      "cell_type": "code",
      "source": [
        "root = TreeNode(1)\n",
        "node1 = TreeNode(3)\n",
        "node2 = TreeNode(-4)\n",
        "node3 = TreeNode(3)\n",
        "node4 = TreeNode(5)\n",
        "node5 = TreeNode(-4)\n",
        "node6 = TreeNode(9)\n",
        "node7 = TreeNode(-1)\n",
        "node8 = TreeNode(3)\n",
        "node9 = TreeNode(5)\n",
        "node10 = TreeNode(1)\n",
        "node11 = TreeNode(-6)\n",
        "node12 = TreeNode(-4)\n",
        "node13 = TreeNode(0)\n",
        "node14 = TreeNode(9)\n",
        "\n",
        "root.children = [node1, node2]\n",
        "node1.children = [node3, node4]\n",
        "node2.children =[node5, node6]\n",
        "node3.children =[node7, node8]\n",
        "node4.children =[node9, node10]\n",
        "node5.children =[node11, node12]\n",
        "node6.children =[node13, node14]"
      ],
      "metadata": {
        "id": "tGYY77vT296O"
      },
      "execution_count": 6,
      "outputs": []
    },
    {
      "cell_type": "code",
      "source": [
        "best_value = minimax(root, depth=4, is_maximizing=True)"
      ],
      "metadata": {
        "id": "REr2ZMJY31pu"
      },
      "execution_count": 8,
      "outputs": []
    },
    {
      "cell_type": "code",
      "source": [
        "print(best_value)"
      ],
      "metadata": {
        "colab": {
          "base_uri": "https://localhost:8080/"
        },
        "id": "0R2mNkru3-Zm",
        "outputId": "3254748c-4f45-4513-e819-2a01b759c0bd"
      },
      "execution_count": 9,
      "outputs": [
        {
          "output_type": "stream",
          "name": "stdout",
          "text": [
            "3\n"
          ]
        }
      ]
    },
    {
      "cell_type": "code",
      "source": [],
      "metadata": {
        "id": "ebqZP6gQ4J3u"
      },
      "execution_count": null,
      "outputs": []
    }
  ]
}
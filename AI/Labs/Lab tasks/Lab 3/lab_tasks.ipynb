{
 "cells": [
  {
   "cell_type": "markdown",
   "metadata": {},
   "source": [
    "Task 1\n",
    "<br>\n",
    "=> Take original salary and check if it is above 30000 then deduct 7% tax and print net salary else if salary is above 20000 deduct 5% tax and print net salary else print net salary without any tax."
   ]
  },
  {
   "cell_type": "code",
   "execution_count": 15,
   "metadata": {},
   "outputs": [
    {
     "name": "stdout",
     "output_type": "stream",
     "text": [
      "Your final salary is 19000.0\n"
     ]
    }
   ],
   "source": [
    "originalSalary = int(input(\"Enter your salary: \"))\n",
    "netSalary = originalSalary\n",
    "if originalSalary>30000:\n",
    "    netSalary = originalSalary - (originalSalary*0.07)\n",
    "elif originalSalary>=20000:\n",
    "    netSalary = originalSalary - (originalSalary*0.05)\n",
    "elif originalSalary<20000:\n",
    "    netSalary = originalSalary\n",
    "print(\"Your final salary is\",netSalary)\n"
   ]
  },
  {
   "cell_type": "markdown",
   "metadata": {},
   "source": [
    "Task 2\n",
    "<br>\n",
    "=>Raising a number to a power p is the same as multiplying the number by itself p times. Write a function called power that takes two arguements a double value for n and an int value for p, and returns the result as double value. Use a default value of 2 for p, so that if this arguement is omitted, the number will be squared. Write a main that gets values from the user to test this function."
   ]
  },
  {
   "cell_type": "code",
   "execution_count": 16,
   "metadata": {},
   "outputs": [
    {
     "name": "stdout",
     "output_type": "stream",
     "text": [
      "The result is 153.76000000000002\n",
      "The result is 1906.6240000000003\n"
     ]
    }
   ],
   "source": [
    "# Implementation # 1\n",
    "# def power(n,p=2):\n",
    "#     return n**p\n",
    "\n",
    "#? Implementation # 2\n",
    "#! n, p = map(int, input(\"Enter a number and a power: \").split())\n",
    "\n",
    "def power(n,p=2):\n",
    "    result = 1\n",
    "    for i in range(p):\n",
    "        result *= n\n",
    "    return result\n",
    "def main():\n",
    "    n = float(input(\"Enter a number: \"))\n",
    "    p = int(input(\"Enter a power: \"))\n",
    "    print(\"The result is\",power(n))\n",
    "    print(\"The result is\",power(n,p))\n",
    "\n",
    "main()\n"
   ]
  },
  {
   "cell_type": "markdown",
   "metadata": {},
   "source": [
    "Task 3\n",
    "<br>\n",
    "=> Write a program that lets the user perform arithmetic operations on two numbers. Your program must be menu driven, allowing the user to select the operation (+, -, *, or /) and input the numbers. Furthermore, your program must consist of following functions: \n",
    "1. Function showChoice: This function shows the options to the user and explains how to enter data. \n",
    "2. Function add: This function accepts two number as arguments and returns sum. \n",
    "3. Function subtract: This function accepts two number as arguments and returns their difference. \n",
    "4. Function mulitiply: This function accepts two number as arguments and returns product. 5. Function divide: This function accepts two number as arguments and returns quotient."
   ]
  },
  {
   "cell_type": "code",
   "execution_count": 17,
   "metadata": {},
   "outputs": [
    {
     "name": "stdout",
     "output_type": "stream",
     "text": [
      "Enter two numbers and select an operation to perform\n",
      "1. Addition\n",
      "2. Subtraction\n",
      "3. Multiplication\n",
      "4. Division\n",
      "5. Exit\n"
     ]
    },
    {
     "name": "stdout",
     "output_type": "stream",
     "text": [
      "The quotient is 1.6666666666666667\n",
      "Enter two numbers and select an operation to perform\n",
      "1. Addition\n",
      "2. Subtraction\n",
      "3. Multiplication\n",
      "4. Division\n",
      "5. Exit\n",
      "Exiting...\n"
     ]
    }
   ],
   "source": [
    "# function definitions\n",
    "def showChoice():\n",
    "    print(\"Enter two numbers and select an operation to perform\")\n",
    "    print(\"1. Addition\")\n",
    "    print(\"2. Subtraction\")\n",
    "    print(\"3. Multiplication\")\n",
    "    print(\"4. Division\")\n",
    "    print(\"5. Exit\")\n",
    "def add():\n",
    "    a = float(input(\"Enter first number: \"))\n",
    "    b = float(input(\"Enter second number: \"))\n",
    "    print(\"The sum is\",a+b)\n",
    "def subtract():\n",
    "    a = float(input(\"Enter first number: \"))\n",
    "    b = float(input(\"Enter second number: \"))\n",
    "    print(\"The difference is\",a-b)\n",
    "def multiply():\n",
    "    a = float(input(\"Enter first number: \"))\n",
    "    b = float(input(\"Enter second number: \"))\n",
    "    print(\"The product is\",a*b)\n",
    "def divide():\n",
    "    a = float(input(\"Enter first number: \"))\n",
    "    b = float(input(\"Enter second number: \"))\n",
    "    print(\"The quotient is\",a/b)\n",
    "\n",
    "# main\n",
    "flag = False\n",
    "while not flag:\n",
    "    showChoice()\n",
    "    choice = int(input(\"Enter your choice: \"))\n",
    "    if choice==1:\n",
    "        add()\n",
    "    elif choice==2:\n",
    "        subtract()\n",
    "    elif choice==3:\n",
    "        multiply()        \n",
    "    elif choice==4:\n",
    "        divide()\n",
    "    elif choice==5:\n",
    "        flag = True\n",
    "        print(\"Exiting...\")\n",
    "    else:\n",
    "        print(\"Invalid choice. Try again\")\n",
    "print()"
   ]
  }
 ],
 "metadata": {
  "kernelspec": {
   "display_name": "Python 3",
   "language": "python",
   "name": "python3"
  },
  "language_info": {
   "codemirror_mode": {
    "name": "ipython",
    "version": 3
   },
   "file_extension": ".py",
   "mimetype": "text/x-python",
   "name": "python",
   "nbconvert_exporter": "python",
   "pygments_lexer": "ipython3",
   "version": "3.11.4"
  }
 },
 "nbformat": 4,
 "nbformat_minor": 2
}

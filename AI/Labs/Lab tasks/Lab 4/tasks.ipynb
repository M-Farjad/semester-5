{
 "cells": [
  {
   "cell_type": "markdown",
   "metadata": {},
   "source": [
    "# Class"
   ]
  },
  {
   "cell_type": "code",
   "execution_count": null,
   "metadata": {},
   "outputs": [],
   "source": [
    "class nameOfClass:\n",
    "    def __init__(self, y, rollno):\n",
    "        self.y=y\n",
    "        self.rollno=rollno\n",
    "    def display(self):\n",
    "        print(\"this name is: \", self.y)\n",
    "        print(\"this rollno is: \", self.rollno)\n",
    "name = input(\"Enter your name: \")\n",
    "rollNum = input(\"Enter your roll #: \")\n",
    "obj = nameOfClass(name, rollNum)\n",
    "obj.display()"
   ]
  },
  {
   "cell_type": "markdown",
   "metadata": {},
   "source": [
    "# Stack Using Functions"
   ]
  },
  {
   "cell_type": "code",
   "execution_count": 11,
   "metadata": {},
   "outputs": [
    {
     "name": "stdout",
     "output_type": "stream",
     "text": [
      "pushed item: 1\n",
      "pushed item: 2\n",
      "pushed item: 3\n",
      "pushed item: 4\n",
      "popped item: 4\n",
      "Stack after popping an element: ['1', '2', '3']\n"
     ]
    }
   ],
   "source": [
    "def create_stack():\n",
    "    stack = []\n",
    "    return stack\n",
    "def check_empty(stack):\n",
    "    return len(stack) == 0\n",
    "def push(stack, item):\n",
    "    stack.append(item)\n",
    "    print(\"pushed item: \" + item)\n",
    "def pop(stack):\n",
    "    if(check_empty(stack)):\n",
    "        return \"stack is empty\"\n",
    "    \n",
    "    return stack.pop()\n",
    "\n",
    "stack = create_stack()\n",
    "push(stack, str(1))\n",
    "push(stack, str(2))\n",
    "push(stack, str(3))\n",
    "push(stack, str(4))\n",
    "print(\"popped item: \"+ pop(stack))\n",
    "print(\"Stack after popping an element: \"+ str(stack))"
   ]
  },
  {
   "cell_type": "markdown",
   "metadata": {},
   "source": [
    "# Stack using class"
   ]
  },
  {
   "cell_type": "code",
   "execution_count": 21,
   "metadata": {},
   "outputs": [
    {
     "name": "stdout",
     "output_type": "stream",
     "text": [
      "pushed item: 3\n",
      "pushed item: 2\n",
      "pushed item: 1\n",
      "pushed item: 6\n",
      "['3', '2', '1', '6']\n",
      "['1', '2', '3', '6']\n",
      "['6', '3', '2', '1']\n"
     ]
    }
   ],
   "source": [
    "class Stack:\n",
    "    def __init__(self):\n",
    "        self.stack = []\n",
    "    def push(self, item):\n",
    "        self.stack.append(item)\n",
    "        print(\"pushed item: \" + item)\n",
    "    def pop(self):\n",
    "        if(len(self.stack) == 0):\n",
    "            return \"stack is empty\"\n",
    "        return self.stack.pop()\n",
    "    def isEmpty(self):\n",
    "        return len(self.stack) == 0\n",
    "    def peek(self):\n",
    "        if(self.isEmpty()):\n",
    "            return \"stack is empty\"\n",
    "        return self.stack[-1]\n",
    "    def display(self):\n",
    "        print(self.stack)\n",
    "    def sort(self):\n",
    "        self.stack.sort()\n",
    "    def sortDescending(self):\n",
    "        self.stack.sort(reverse = True)\n",
    "AStack = Stack()\n",
    "AStack.push(str(3))\n",
    "AStack.push(str(2))\n",
    "AStack.push(str(1))\n",
    "AStack.push(str(6))\n",
    "AStack.display()\n",
    "AStack.sort()\n",
    "AStack.display()\n",
    "AStack.sortDescending()\n",
    "AStack.display()\n"
   ]
  },
  {
   "cell_type": "markdown",
   "metadata": {},
   "source": [
    "# Queue using functions"
   ]
  },
  {
   "cell_type": "code",
   "execution_count": 22,
   "metadata": {},
   "outputs": [
    {
     "name": "stdout",
     "output_type": "stream",
     "text": [
      "enqueued item: 1\n",
      "enqueued item: 2\n",
      "enqueued item: 3\n",
      "['2', '3']\n",
      "['3']\n"
     ]
    }
   ],
   "source": [
    "def create_queue():\n",
    "    queue = []\n",
    "    return queue\n",
    "def check_empty(queue):\n",
    "    return len(queue) == 0\n",
    "def enqueue(queue, item):\n",
    "    queue.append(item)\n",
    "    print(\"enqueued item: \" + item)\n",
    "def dequeue(queue):\n",
    "    if(check_empty(queue)):\n",
    "        return \"queue is empty\"\n",
    "    \n",
    "    return queue.pop(0)\n",
    "def display(queue):\n",
    "    print(queue)\n",
    "def size(queue):\n",
    "    return len(queue)\n",
    "queue = create_queue()\n",
    "enqueue(queue, str(1))\n",
    "enqueue(queue, str(2))\n",
    "enqueue(queue, str(3))\n",
    "dequeue(queue)\n",
    "display(queue)\n",
    "dequeue(queue)\n",
    "display(queue)"
   ]
  },
  {
   "cell_type": "markdown",
   "metadata": {},
   "source": [
    "# Queue Using class"
   ]
  },
  {
   "cell_type": "code",
   "execution_count": 25,
   "metadata": {},
   "outputs": [
    {
     "name": "stdout",
     "output_type": "stream",
     "text": [
      "enqueued item: 10\n",
      "enqueued item: 4\n",
      "enqueued item: 6\n",
      "['10', '4', '6']\n",
      "['4', '6']\n",
      "element is not in queue\n"
     ]
    }
   ],
   "source": [
    "class Queue:\n",
    "    def __init__(self):\n",
    "        self.queue = []\n",
    "    def enqueue(self, item):\n",
    "        self.queue.append(item)\n",
    "        print(\"enqueued item: \" + item)\n",
    "    def dequeue(self):\n",
    "        if(len(self.queue) == 0):\n",
    "            return \"queue is empty\"\n",
    "        return self.queue.pop(0)\n",
    "    def isEmpty(self):\n",
    "        return len(self.queue) == 0\n",
    "    def peek(self):\n",
    "        if(self.isEmpty()):\n",
    "            return \"queue is empty\"\n",
    "        return self.queue[0]\n",
    "    def display(self):\n",
    "        print(self.queue)\n",
    "    def checkElement(self):\n",
    "        element = input(\"Enter element to check: \")\n",
    "        if(element in self.queue):\n",
    "            print(\"element is in queue\")\n",
    "        else:\n",
    "            print(\"element is not in queue\")\n",
    "myQueue = Queue()\n",
    "myQueue.enqueue(str(10))\n",
    "myQueue.enqueue(str(4))\n",
    "myQueue.enqueue(str(6))\n",
    "myQueue.display()\n",
    "myQueue.dequeue()\n",
    "myQueue.display()\n",
    "myQueue.checkElement()"
   ]
  }
 ],
 "metadata": {
  "kernelspec": {
   "display_name": "Python 3",
   "language": "python",
   "name": "python3"
  },
  "language_info": {
   "codemirror_mode": {
    "name": "ipython",
    "version": 3
   },
   "file_extension": ".py",
   "mimetype": "text/x-python",
   "name": "python",
   "nbconvert_exporter": "python",
   "pygments_lexer": "ipython3",
   "version": "3.11.4"
  }
 },
 "nbformat": 4,
 "nbformat_minor": 2
}

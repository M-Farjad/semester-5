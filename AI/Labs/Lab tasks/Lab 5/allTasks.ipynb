{
  "cells": [
    {
      "cell_type": "code",
      "execution_count": null,
      "metadata": {
        "id": "meZG3JqFiZwZ"
      },
      "outputs": [
        {
          "ename": "",
          "evalue": "",
          "output_type": "error",
          "traceback": [
            "\u001b[1;31mRunning cells with 'c:\\Users\\fwfar\\AppData\\Local\\Programs\\Python\\Python312\\python.exe' requires the ipykernel package.\n",
            "\u001b[1;31mRun the following command to install 'ipykernel' into the Python environment. \n",
            "\u001b[1;31mCommand: 'c:/Users/fwfar/AppData/Local/Programs/Python/Python312/python.exe -m pip install ipykernel -U --user --force-reinstall'"
          ]
        }
      ],
      "source": [
        "class Passenger:\n",
        "    def __init__(self, name):\n",
        "        self.name = name\n",
        "        self.next = None"
      ]
    },
    {
      "cell_type": "code",
      "execution_count": null,
      "metadata": {
        "id": "DH7il2GyiuTW"
      },
      "outputs": [
        {
          "ename": "",
          "evalue": "",
          "output_type": "error",
          "traceback": [
            "\u001b[1;31mRunning cells with 'c:\\Users\\fwfar\\AppData\\Local\\Programs\\Python\\Python312\\python.exe' requires the ipykernel package.\n",
            "\u001b[1;31mRun the following command to install 'ipykernel' into the Python environment. \n",
            "\u001b[1;31mCommand: 'c:/Users/fwfar/AppData/Local/Programs/Python/Python312/python.exe -m pip install ipykernel -U --user --force-reinstall'"
          ]
        }
      ],
      "source": [
        "class LinkedList:\n",
        "    def __init__(self):\n",
        "        self.head = None\n",
        "\n",
        "    def append(self, name):\n",
        "        new_node = Passenger(name)\n",
        "        if not self.head:\n",
        "            self.head = new_node\n",
        "            return\n",
        "        last_node = self.head\n",
        "        while last_node.next:\n",
        "            last_node = last_node.next\n",
        "        last_node.next = new_node\n",
        "\n",
        "    def display_passengers(self):\n",
        "        current = self.head\n",
        "        while current:\n",
        "            print(current.name)\n",
        "            current = current.next"
      ]
    },
    {
      "cell_type": "code",
      "execution_count": null,
      "metadata": {
        "id": "hoLOl1Yqi3AY"
      },
      "outputs": [
        {
          "ename": "",
          "evalue": "",
          "output_type": "error",
          "traceback": [
            "\u001b[1;31mRunning cells with 'c:\\Users\\fwfar\\AppData\\Local\\Programs\\Python\\Python312\\python.exe' requires the ipykernel package.\n",
            "\u001b[1;31mRun the following command to install 'ipykernel' into the Python environment. \n",
            "\u001b[1;31mCommand: 'c:/Users/fwfar/AppData/Local/Programs/Python/Python312/python.exe -m pip install ipykernel -U --user --force-reinstall'"
          ]
        }
      ],
      "source": [
        "class Stack:\n",
        "    def __init__(self):\n",
        "        self.items = []\n",
        "\n",
        "    def push(self, item):\n",
        "        self.items.append(item)\n",
        "\n",
        "    def pop(self):\n",
        "        if not self.is_empty():\n",
        "            return self.items.pop()\n",
        "\n",
        "    def is_empty(self):\n",
        "        return len(self.items) == 0\n",
        "\n",
        "    def display_waiting_list(self):\n",
        "        for passenger in reversed(self.items):\n",
        "            print(passenger)"
      ]
    },
    {
      "cell_type": "code",
      "execution_count": null,
      "metadata": {
        "id": "ruDhDL9ri3OD"
      },
      "outputs": [
        {
          "ename": "",
          "evalue": "",
          "output_type": "error",
          "traceback": [
            "\u001b[1;31mRunning cells with 'c:\\Users\\fwfar\\AppData\\Local\\Programs\\Python\\Python312\\python.exe' requires the ipykernel package.\n",
            "\u001b[1;31mRun the following command to install 'ipykernel' into the Python environment. \n",
            "\u001b[1;31mCommand: 'c:/Users/fwfar/AppData/Local/Programs/Python/Python312/python.exe -m pip install ipykernel -U --user --force-reinstall'"
          ]
        }
      ],
      "source": [
        "class Queue:\n",
        "    def __init__(self):\n",
        "        self.items = []\n",
        "\n",
        "    def enqueue(self, item):\n",
        "        self.items.append(item)\n",
        "\n",
        "    def dequeue(self):\n",
        "        if not self.is_empty():\n",
        "            return self.items.pop(0)\n",
        "\n",
        "    def is_empty(self):\n",
        "        return len(self.items) == 0\n",
        "\n",
        "    def display_confirmed_bookings(self):\n",
        "        for passenger in self.items:\n",
        "            print(passenger)"
      ]
    },
    {
      "cell_type": "code",
      "execution_count": null,
      "metadata": {
        "id": "OSNH-zWzi9Cu"
      },
      "outputs": [
        {
          "ename": "",
          "evalue": "",
          "output_type": "error",
          "traceback": [
            "\u001b[1;31mRunning cells with 'c:\\Users\\fwfar\\AppData\\Local\\Programs\\Python\\Python312\\python.exe' requires the ipykernel package.\n",
            "\u001b[1;31mRun the following command to install 'ipykernel' into the Python environment. \n",
            "\u001b[1;31mCommand: 'c:/Users/fwfar/AppData/Local/Programs/Python/Python312/python.exe -m pip install ipykernel -U --user --force-reinstall'"
          ]
        }
      ],
      "source": [
        "class TrainReservationSystem:\n",
        "    def __init__(self,total_seats):\n",
        "        self.passenger_list = LinkedList()\n",
        "        self.waiting_list = Stack()\n",
        "        self.confirmed_bookings = Queue()\n",
        "        self.total_seats = total_seats\n",
        "\n",
        "    def book_ticket(self, passenger_name):\n",
        "        self.passenger_list.append(passenger_name)\n",
        "        if self.total_seats > 0:\n",
        "            self.confirmed_bookings.enqueue(passenger_name)\n",
        "            print(f\"Seat Successfully booked for {passenger_name}.\")\n",
        "            self.total_seats -= 1\n",
        "        else:\n",
        "            self.waiting_list.push(passenger_name)\n",
        "            print(f\"Train fully booked. {passenger_name} added to the waiting list.\")\n",
        "\n",
        "    def cancel_booking(self, passenger_name):\n",
        "        if passenger_name in self.confirmed_bookings.items:\n",
        "            self.confirmed_bookings.items.remove(passenger_name)\n",
        "            self.total_seats += 1\n",
        "            print(f\"{passenger_name}'s booking has been canceled.\")\n",
        "            if not self.waiting_list.is_empty():\n",
        "                passenger_from_waiting = self.waiting_list.pop()\n",
        "                self.confirmed_bookings.enqueue(passenger_from_waiting)\n",
        "                self.total_seats -= 1\n",
        "                print(f\"Seat successfully booked for {passenger_from_waiting} from the waiting list.\")\n",
        "        elif passenger_name in self.waiting_list.items:\n",
        "            self.waiting_list.items.remove(passenger_name)\n",
        "            print(f\"{passenger_name}'s waiting list entry has been removed.\")\n",
        "        else:\n",
        "            print(f\"{passenger_name} not found in bookings or waiting list.\")\n",
        "\n",
        "    def display_passengers(self):\n",
        "        print(\"\\nPassengers with confirmed bookings:\")\n",
        "        self.confirmed_bookings.display_confirmed_bookings()\n",
        "        print(\"\\nPassengers on the waiting list:\")\n",
        "        self.waiting_list.display_waiting_list()\n",
        "        print(\"\\nAll Passengers:\")\n",
        "        self.passenger_list.display_passengers()"
      ]
    },
    {
      "cell_type": "code",
      "execution_count": null,
      "metadata": {
        "colab": {
          "base_uri": "https://localhost:8080/"
        },
        "id": "sNhsOT-llANF",
        "outputId": "b74be06c-259b-4a1e-99a1-1a24d2e64f5a"
      },
      "outputs": [
        {
          "ename": "",
          "evalue": "",
          "output_type": "error",
          "traceback": [
            "\u001b[1;31mRunning cells with 'c:\\Users\\fwfar\\AppData\\Local\\Programs\\Python\\Python312\\python.exe' requires the ipykernel package.\n",
            "\u001b[1;31mRun the following command to install 'ipykernel' into the Python environment. \n",
            "\u001b[1;31mCommand: 'c:/Users/fwfar/AppData/Local/Programs/Python/Python312/python.exe -m pip install ipykernel -U --user --force-reinstall'"
          ]
        }
      ],
      "source": [
        "\n",
        "max_seats = 3\n",
        "train_system = TrainReservationSystem(max_seats)\n",
        "\n",
        "while True:\n",
        "    print(\"\\nTrain Reservation System Menu:\")\n",
        "    print(\"1. Book Ticket\")\n",
        "    print(\"2. Cancel Booking\")\n",
        "    print(\"3. Display Passengers\")\n",
        "    print(\"4. Exit\")\n",
        "\n",
        "    choice = input(\"Enter your choice (1-4): \")\n",
        "\n",
        "    if choice == \"1\":\n",
        "        name = input(\"Enter passenger name: \")\n",
        "        train_system.book_ticket(name)\n",
        "    elif choice == \"2\":\n",
        "        name = input(\"Enter passenger name to cancel booking: \")\n",
        "        train_system.cancel_booking(name)\n",
        "    elif choice == \"3\":\n",
        "        train_system.display_passengers()\n",
        "    elif choice == \"4\":\n",
        "        print(\"Exiting the program. Thank you!\")\n",
        "        break\n",
        "    else:\n",
        "        print(\"Invalid choice. Please enter a valid option (1-4).\")\n"
      ]
    },
    {
      "cell_type": "markdown",
      "metadata": {
        "id": "sfz8dwyAmTf7"
      },
      "source": [
        "# Question 2"
      ]
    },
    {
      "cell_type": "code",
      "execution_count": null,
      "metadata": {
        "id": "NYEyinZJmX29"
      },
      "outputs": [
        {
          "ename": "",
          "evalue": "",
          "output_type": "error",
          "traceback": [
            "\u001b[1;31mRunning cells with 'c:\\Users\\fwfar\\AppData\\Local\\Programs\\Python\\Python312\\python.exe' requires the ipykernel package.\n",
            "\u001b[1;31mRun the following command to install 'ipykernel' into the Python environment. \n",
            "\u001b[1;31mCommand: 'c:/Users/fwfar/AppData/Local/Programs/Python/Python312/python.exe -m pip install ipykernel -U --user --force-reinstall'"
          ]
        }
      ],
      "source": [
        "class TaskNode:\n",
        "    def __init__(self, task_id, priority, execution_time):\n",
        "        self.task_id = task_id\n",
        "        self.priority = priority\n",
        "        self.execution_time = execution_time\n",
        "        self.next = None"
      ]
    },
    {
      "cell_type": "code",
      "execution_count": null,
      "metadata": {
        "id": "EKjb5zIpmxTL"
      },
      "outputs": [
        {
          "ename": "",
          "evalue": "",
          "output_type": "error",
          "traceback": [
            "\u001b[1;31mRunning cells with 'c:\\Users\\fwfar\\AppData\\Local\\Programs\\Python\\Python312\\python.exe' requires the ipykernel package.\n",
            "\u001b[1;31mRun the following command to install 'ipykernel' into the Python environment. \n",
            "\u001b[1;31mCommand: 'c:/Users/fwfar/AppData/Local/Programs/Python/Python312/python.exe -m pip install ipykernel -U --user --force-reinstall'"
          ]
        }
      ],
      "source": [
        "class TaskLinkedList:\n",
        "    def __init__(self):\n",
        "        self.head = None\n",
        "\n",
        "    def add_task(self, task_id, priority, execution_time):\n",
        "        new_task = TaskNode(task_id, priority, execution_time)\n",
        "        if not self.head:\n",
        "            self.head = new_task\n",
        "            return\n",
        "        # iterate to the last node\n",
        "        last_task = self.head\n",
        "        while last_task.next:\n",
        "            last_task = last_task.next\n",
        "        last_task.next = new_task\n",
        "\n",
        "    def remove_task(self, task_id):\n",
        "        current = self.head\n",
        "        prev = None\n",
        "        while current:\n",
        "            if current.task_id == task_id:\n",
        "                if prev:\n",
        "                    prev.next = current.next\n",
        "                else:\n",
        "                    self.head = current.next\n",
        "                return\n",
        "            prev = current\n",
        "            current = current.next\n",
        "        print(f\"Task with ID {task_id} not found.\")\n",
        "\n",
        "    def display_tasks(self):\n",
        "        current = self.head\n",
        "        while current:\n",
        "            print(f\"Task ID: {current.task_id}, Priority: {current.priority}, Execution Time: {current.execution_time}\")\n",
        "            current = current.next"
      ]
    },
    {
      "cell_type": "code",
      "execution_count": null,
      "metadata": {
        "id": "k7ur8OoPm8Ox"
      },
      "outputs": [
        {
          "ename": "",
          "evalue": "",
          "output_type": "error",
          "traceback": [
            "\u001b[1;31mRunning cells with 'c:\\Users\\fwfar\\AppData\\Local\\Programs\\Python\\Python312\\python.exe' requires the ipykernel package.\n",
            "\u001b[1;31mRun the following command to install 'ipykernel' into the Python environment. \n",
            "\u001b[1;31mCommand: 'c:/Users/fwfar/AppData/Local/Programs/Python/Python312/python.exe -m pip install ipykernel -U --user --force-reinstall'"
          ]
        }
      ],
      "source": [
        "class TaskStack:\n",
        "    def __init__(self):\n",
        "        self.items = []\n",
        "\n",
        "    def push(self, task_id):\n",
        "        self.items.append(task_id)\n",
        "\n",
        "    def pop(self):\n",
        "        if not self.is_empty():\n",
        "            return self.items.pop()\n",
        "\n",
        "    def is_empty(self):\n",
        "        return len(self.items) == 0\n",
        "\n",
        "    def display_high_priority_tasks(self):\n",
        "        for task_id in reversed(self.items):\n",
        "            print(f\"High Priority Task ID: {task_id}\")"
      ]
    },
    {
      "cell_type": "code",
      "execution_count": null,
      "metadata": {
        "id": "j0pVlEAEm8Rr"
      },
      "outputs": [
        {
          "ename": "",
          "evalue": "",
          "output_type": "error",
          "traceback": [
            "\u001b[1;31mRunning cells with 'c:\\Users\\fwfar\\AppData\\Local\\Programs\\Python\\Python312\\python.exe' requires the ipykernel package.\n",
            "\u001b[1;31mRun the following command to install 'ipykernel' into the Python environment. \n",
            "\u001b[1;31mCommand: 'c:/Users/fwfar/AppData/Local/Programs/Python/Python312/python.exe -m pip install ipykernel -U --user --force-reinstall'"
          ]
        }
      ],
      "source": [
        "class TaskQueue:\n",
        "    def __init__(self):\n",
        "        self.items = []\n",
        "\n",
        "    def enqueue(self, task_id):\n",
        "        self.items.append(task_id)\n",
        "\n",
        "    def dequeue(self):\n",
        "        if not self.is_empty():\n",
        "            return self.items.pop(0)\n",
        "\n",
        "    def is_empty(self):\n",
        "        return len(self.items) == 0\n",
        "\n",
        "    def display_regular_priority_tasks(self):\n",
        "        for task_id in self.items:\n",
        "            print(f\"Regular Priority Task ID: {task_id}\")"
      ]
    },
    {
      "cell_type": "code",
      "execution_count": null,
      "metadata": {
        "id": "221zQVNYnBLy"
      },
      "outputs": [
        {
          "ename": "",
          "evalue": "",
          "output_type": "error",
          "traceback": [
            "\u001b[1;31mRunning cells with 'c:\\Users\\fwfar\\AppData\\Local\\Programs\\Python\\Python312\\python.exe' requires the ipykernel package.\n",
            "\u001b[1;31mRun the following command to install 'ipykernel' into the Python environment. \n",
            "\u001b[1;31mCommand: 'c:/Users/fwfar/AppData/Local/Programs/Python/Python312/python.exe -m pip install ipykernel -U --user --force-reinstall'"
          ]
        }
      ],
      "source": [
        "class TaskSchedulingSystem:\n",
        "    def __init__(self):\n",
        "        self.task_list = TaskLinkedList()\n",
        "        self.high_priority_tasks = TaskStack()\n",
        "        self.regular_priority_tasks = TaskQueue()\n",
        "\n",
        "    def add_task(self, task_id, priority, execution_time):\n",
        "        self.task_list.add_task(task_id, priority, execution_time)\n",
        "        if priority == 'high':\n",
        "            self.high_priority_tasks.push(task_id)\n",
        "            print(f\"Task with ID {task_id} (High Priority) added.\")\n",
        "        else:\n",
        "            self.regular_priority_tasks.enqueue(task_id)\n",
        "            print(f\"Task with ID {task_id} (Regular Priority) added.\")\n",
        "\n",
        "    def execute_task(self):\n",
        "        if not self.high_priority_tasks.is_empty():\n",
        "            task_id = self.high_priority_tasks.pop()\n",
        "            print(f\"Executing High Priority Task with ID: {task_id}\")\n",
        "            self.task_list.remove_task(task_id)\n",
        "        elif not self.regular_priority_tasks.is_empty():\n",
        "            task_id = self.regular_priority_tasks.dequeue()\n",
        "            print(f\"Executing Regular Priority Task with ID: {task_id}\")\n",
        "            self.task_list.remove_task(task_id)\n",
        "        else:\n",
        "            print(\"No tasks to execute.\")\n",
        "\n",
        "    def remove_task_by_id(self, task_id):\n",
        "        self.task_list.remove_task(task_id)\n",
        "        self.high_priority_tasks.items.remove(task_id) if task_id in self.high_priority_tasks.items else None\n",
        "        self.regular_priority_tasks.items.remove(task_id) if task_id in self.regular_priority_tasks.items else None\n",
        "\n",
        "    def display_tasks(self):\n",
        "        print(\"\\nAll Tasks:\")\n",
        "        self.task_list.display_tasks()\n",
        "        print(\"\\nHigh Priority Tasks:\")\n",
        "        self.high_priority_tasks.display_high_priority_tasks()\n",
        "        print(\"\\nRegular Priority Tasks:\")\n",
        "        self.regular_priority_tasks.display_regular_priority_tasks()"
      ]
    },
    {
      "cell_type": "code",
      "execution_count": null,
      "metadata": {
        "colab": {
          "base_uri": "https://localhost:8080/"
        },
        "id": "h-uX13dsnHYC",
        "outputId": "f6d3fdff-e20b-4db8-f0b6-ede47737c762"
      },
      "outputs": [
        {
          "ename": "",
          "evalue": "",
          "output_type": "error",
          "traceback": [
            "\u001b[1;31mRunning cells with 'c:\\Users\\fwfar\\AppData\\Local\\Programs\\Python\\Python312\\python.exe' requires the ipykernel package.\n",
            "\u001b[1;31mRun the following command to install 'ipykernel' into the Python environment. \n",
            "\u001b[1;31mCommand: 'c:/Users/fwfar/AppData/Local/Programs/Python/Python312/python.exe -m pip install ipykernel -U --user --force-reinstall'"
          ]
        }
      ],
      "source": [
        "task_system = TaskSchedulingSystem()\n",
        "\n",
        "while True:\n",
        "    print(\"\\nTask Scheduling System Menu:\")\n",
        "    print(\"1. Add Task\")\n",
        "    print(\"2. Execute Task\")\n",
        "    print(\"3. Remove Task by ID\")\n",
        "    print(\"4. Display Tasks\")\n",
        "    print(\"5. Exit\")\n",
        "\n",
        "    choice = input(\"Enter your choice (1-5): \")\n",
        "\n",
        "    if choice == \"1\":\n",
        "        task_id = input(\"Enter task ID: \")\n",
        "        priority = input(\"Enter priority (high/regular): \")\n",
        "        duration = int(input(\"Enter duration: \"))\n",
        "        task_system.add_task(task_id, priority, duration)\n",
        "    elif choice == \"2\":\n",
        "        task_system.execute_task()\n",
        "    elif choice == \"3\":\n",
        "        task_id = input(\"Enter task ID to remove: \")\n",
        "        task_system.remove_task_by_id(task_id)\n",
        "    elif choice == \"4\":\n",
        "        task_system.display_tasks()\n",
        "    elif choice == \"5\":\n",
        "        print(\"Exiting the program. Thank you!\")\n",
        "        break\n",
        "    else:\n",
        "        print(\"Invalid choice. Please enter a valid option (1-5).\")"
      ]
    },
    {
      "cell_type": "code",
      "execution_count": null,
      "metadata": {
        "id": "RPhiaJRro10B"
      },
      "outputs": [
        {
          "ename": "",
          "evalue": "",
          "output_type": "error",
          "traceback": [
            "\u001b[1;31mRunning cells with 'c:\\Users\\fwfar\\AppData\\Local\\Programs\\Python\\Python312\\python.exe' requires the ipykernel package.\n",
            "\u001b[1;31mRun the following command to install 'ipykernel' into the Python environment. \n",
            "\u001b[1;31mCommand: 'c:/Users/fwfar/AppData/Local/Programs/Python/Python312/python.exe -m pip install ipykernel -U --user --force-reinstall'"
          ]
        }
      ],
      "source": []
    }
  ],
  "metadata": {
    "colab": {
      "provenance": []
    },
    "kernelspec": {
      "display_name": "Python 3",
      "name": "python3"
    },
    "language_info": {
      "name": "python",
      "version": "3.12.0"
    }
  },
  "nbformat": 4,
  "nbformat_minor": 0
}

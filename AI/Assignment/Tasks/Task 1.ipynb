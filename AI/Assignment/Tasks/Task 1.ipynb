{
 "cells": [
  {
   "cell_type": "markdown",
   "metadata": {},
   "source": [
    "# import lib"
   ]
  },
  {
   "cell_type": "code",
   "execution_count": 2,
   "metadata": {},
   "outputs": [],
   "source": [
    "import random"
   ]
  },
  {
   "cell_type": "markdown",
   "metadata": {},
   "source": [
    "# Random Chromosome Generator"
   ]
  },
  {
   "cell_type": "code",
   "execution_count": 3,
   "metadata": {},
   "outputs": [],
   "source": [
    "def generate_chromosome():\n",
    "    return [random.randint(0, 7) for _ in range(8)]"
   ]
  },
  {
   "cell_type": "code",
   "execution_count": 4,
   "metadata": {},
   "outputs": [],
   "source": [
    "def generate_population(population_size):\n",
    "    return [generate_chromosome() for _ in range(population_size)]"
   ]
  },
  {
   "cell_type": "code",
   "execution_count": 5,
   "metadata": {},
   "outputs": [],
   "source": [
    "def fitness(chromosome):\n",
    "    non_attacking_queens = 0\n",
    "    for i in range(8):\n",
    "        for j in range(i + 1, 8):\n",
    "            if (\n",
    "                chromosome[i] != chromosome[j]\n",
    "                and abs(chromosome[i] - chromosome[j]) != abs(i - j)\n",
    "            ):\n",
    "                non_attacking_queens += 1\n",
    "    return non_attacking_queens"
   ]
  },
  {
   "cell_type": "code",
   "execution_count": 6,
   "metadata": {},
   "outputs": [],
   "source": [
    "def crossover(parent1, parent2):\n",
    "    crossover_point = random.randint(1, 6)\n",
    "    child1 = parent1[:crossover_point] + parent2[crossover_point:]\n",
    "    child2 = parent2[:crossover_point] + parent1[crossover_point:]\n",
    "    return child1, child2"
   ]
  },
  {
   "cell_type": "code",
   "execution_count": 7,
   "metadata": {},
   "outputs": [],
   "source": [
    "def mutate(chromosome):\n",
    "    mutation_point = random.randint(0, 7)\n",
    "    new_gene = random.randint(0, 7)\n",
    "    chromosome[mutation_point] = new_gene\n",
    "    return chromosome"
   ]
  },
  {
   "cell_type": "code",
   "execution_count": 8,
   "metadata": {},
   "outputs": [],
   "source": [
    "def select_parents(population):\n",
    "    selected_parents = random.sample(population, 2)\n",
    "    selected_parents.sort(key=lambda x: fitness(x), reverse=True)\n",
    "    return selected_parents"
   ]
  },
  {
   "cell_type": "code",
   "execution_count": 9,
   "metadata": {},
   "outputs": [],
   "source": [
    "def genetic_algorithm(population_size, termination_fitness):\n",
    "    population = generate_population(population_size)\n",
    "    generation = 1\n",
    "    while True:\n",
    "        population.sort(key=lambda x: fitness(x), reverse=True)\n",
    "        fittest_chromosome = population[0]\n",
    "        current_fitness = fitness(fittest_chromosome)\n",
    "        \n",
    "        if current_fitness >= termination_fitness:\n",
    "            print(\"Solution found:\")\n",
    "            print(\"Chromosome:\", fittest_chromosome)\n",
    "            print(\"Fitness:\", current_fitness)\n",
    "            break\n",
    "        \n",
    "        new_population = [fittest_chromosome]\n",
    "\n",
    "        for _ in range((population_size - 1) // 2):\n",
    "            parent1, parent2 = select_parents(population)\n",
    "            child1, child2 = crossover(parent1, parent2)\n",
    "            child1 = mutate(child1)\n",
    "            child2 = mutate(child2)\n",
    "            new_population.extend([child1, child2])\n",
    "\n",
    "        population = new_population\n",
    "        generation += 1\n",
    "\n",
    "        if generation % 10 == 0:\n",
    "            print(f\"Generation: {generation}, Fitness: {current_fitness}\")"
   ]
  },
  {
   "cell_type": "code",
   "execution_count": 21,
   "metadata": {},
   "outputs": [
    {
     "name": "stdout",
     "output_type": "stream",
     "text": [
      "Generation: 10, Fitness: 24\n",
      "Generation: 20, Fitness: 24\n",
      "Generation: 30, Fitness: 25\n",
      "Generation: 40, Fitness: 25\n",
      "Generation: 50, Fitness: 25\n",
      "Generation: 60, Fitness: 25\n",
      "Generation: 70, Fitness: 25\n",
      "Generation: 80, Fitness: 25\n",
      "Generation: 90, Fitness: 25\n",
      "Generation: 100, Fitness: 25\n",
      "Solution found:\n",
      "Chromosome: [5, 1, 6, 0, 7, 2, 4, 6]\n",
      "Fitness: 26\n"
     ]
    }
   ],
   "source": [
    "if __name__ == \"__main__\":\n",
    "    genetic_algorithm(population_size=4, termination_fitness=26)"
   ]
  }
 ],
 "metadata": {
  "kernelspec": {
   "display_name": "Python 3",
   "language": "python",
   "name": "python3"
  },
  "language_info": {
   "codemirror_mode": {
    "name": "ipython",
    "version": 3
   },
   "file_extension": ".py",
   "mimetype": "text/x-python",
   "name": "python",
   "nbconvert_exporter": "python",
   "pygments_lexer": "ipython3",
   "version": "3.12.0"
  }
 },
 "nbformat": 4,
 "nbformat_minor": 2
}
